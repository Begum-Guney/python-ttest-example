{
  "nbformat": 4,
  "nbformat_minor": 0,
  "metadata": {
    "colab": {
      "provenance": [],
      "authorship_tag": "ABX9TyMv0KYv4rF6xRRyAhjaMmaY",
      "include_colab_link": true
    },
    "kernelspec": {
      "name": "python3",
      "display_name": "Python 3"
    },
    "language_info": {
      "name": "python"
    }
  },
  "cells": [
    {
      "cell_type": "markdown",
      "metadata": {
        "id": "view-in-github",
        "colab_type": "text"
      },
      "source": [
        "<a href=\"https://colab.research.google.com/github/Begum-Guney/python-ttest-example/blob/main/ttest_interpretation.ipynb\" target=\"_parent\"><img src=\"https://colab.research.google.com/assets/colab-badge.svg\" alt=\"Open In Colab\"/></a>"
      ]
    },
    {
      "cell_type": "code",
      "execution_count": 1,
      "metadata": {
        "id": "GwRZH_luHcv0"
      },
      "outputs": [],
      "source": [
        "# LIBRARY IMPORTS\n",
        "\n",
        "# numpy: for random data generation (simulate conversion)\n",
        "import numpy as np\n",
        "\n",
        "# pandas: for data handling and aggregation\n",
        "import pandas as pd\n",
        "\n",
        "# seaborn & matplotlib: for visualization\n",
        "import seaborn as sns\n",
        "import matplotlib.pyplot as plt\n",
        "\n",
        "# scipy.stats: for t-test (hypothesis testing)\n",
        "from scipy import stats\n",
        "\n",
        "# statsmodels: for professional confidence interval calculation\n",
        "import statsmodels.stats.api as sms\n",
        "\n",
        "# Set seaborn plot style\n",
        "sns.set(style=\"whitegrid\")\n"
      ]
    },
    {
      "cell_type": "code",
      "source": [
        "# SIMULATE A/B TEST DATA\n",
        "\n",
        "# We simulate conversion data using binomial distribution:\n",
        "# 1 = converted, 0 = not converted\n",
        "\n",
        "# Group A: control group (existing button design)\n",
        "np.random.seed(42)\n",
        "group_a = np.random.binomial(n=1, p=0.12, size=1000)  # 12% conversion rate\n",
        "\n",
        "# Group B: test group (new button design)\n",
        "group_b = np.random.binomial(n=1, p=0.15, size=1000)  # 15% conversion rate\n",
        "\n",
        "# Combine both groups into a pandas DataFrame\n",
        "df = pd.DataFrame({\n",
        "    \"group\": [\"A\"] * len(group_a) + [\"B\"] * len(group_b),\n",
        "    \"converted\": np.concatenate([group_a, group_b])\n",
        "})\n",
        "df.head()"
      ],
      "metadata": {
        "colab": {
          "base_uri": "https://localhost:8080/",
          "height": 206
        },
        "id": "hVRWJeMbH-Zt",
        "outputId": "7a2230ed-efd1-4b34-8e70-16923750145c"
      },
      "execution_count": 2,
      "outputs": [
        {
          "output_type": "execute_result",
          "data": {
            "text/plain": [
              "  group  converted\n",
              "0     A          0\n",
              "1     A          1\n",
              "2     A          0\n",
              "3     A          0\n",
              "4     A          0"
            ],
            "text/html": [
              "\n",
              "  <div id=\"df-b845890d-7717-4e01-9c59-ee167f24137c\" class=\"colab-df-container\">\n",
              "    <div>\n",
              "<style scoped>\n",
              "    .dataframe tbody tr th:only-of-type {\n",
              "        vertical-align: middle;\n",
              "    }\n",
              "\n",
              "    .dataframe tbody tr th {\n",
              "        vertical-align: top;\n",
              "    }\n",
              "\n",
              "    .dataframe thead th {\n",
              "        text-align: right;\n",
              "    }\n",
              "</style>\n",
              "<table border=\"1\" class=\"dataframe\">\n",
              "  <thead>\n",
              "    <tr style=\"text-align: right;\">\n",
              "      <th></th>\n",
              "      <th>group</th>\n",
              "      <th>converted</th>\n",
              "    </tr>\n",
              "  </thead>\n",
              "  <tbody>\n",
              "    <tr>\n",
              "      <th>0</th>\n",
              "      <td>A</td>\n",
              "      <td>0</td>\n",
              "    </tr>\n",
              "    <tr>\n",
              "      <th>1</th>\n",
              "      <td>A</td>\n",
              "      <td>1</td>\n",
              "    </tr>\n",
              "    <tr>\n",
              "      <th>2</th>\n",
              "      <td>A</td>\n",
              "      <td>0</td>\n",
              "    </tr>\n",
              "    <tr>\n",
              "      <th>3</th>\n",
              "      <td>A</td>\n",
              "      <td>0</td>\n",
              "    </tr>\n",
              "    <tr>\n",
              "      <th>4</th>\n",
              "      <td>A</td>\n",
              "      <td>0</td>\n",
              "    </tr>\n",
              "  </tbody>\n",
              "</table>\n",
              "</div>\n",
              "    <div class=\"colab-df-buttons\">\n",
              "\n",
              "  <div class=\"colab-df-container\">\n",
              "    <button class=\"colab-df-convert\" onclick=\"convertToInteractive('df-b845890d-7717-4e01-9c59-ee167f24137c')\"\n",
              "            title=\"Convert this dataframe to an interactive table.\"\n",
              "            style=\"display:none;\">\n",
              "\n",
              "  <svg xmlns=\"http://www.w3.org/2000/svg\" height=\"24px\" viewBox=\"0 -960 960 960\">\n",
              "    <path d=\"M120-120v-720h720v720H120Zm60-500h600v-160H180v160Zm220 220h160v-160H400v160Zm0 220h160v-160H400v160ZM180-400h160v-160H180v160Zm440 0h160v-160H620v160ZM180-180h160v-160H180v160Zm440 0h160v-160H620v160Z\"/>\n",
              "  </svg>\n",
              "    </button>\n",
              "\n",
              "  <style>\n",
              "    .colab-df-container {\n",
              "      display:flex;\n",
              "      gap: 12px;\n",
              "    }\n",
              "\n",
              "    .colab-df-convert {\n",
              "      background-color: #E8F0FE;\n",
              "      border: none;\n",
              "      border-radius: 50%;\n",
              "      cursor: pointer;\n",
              "      display: none;\n",
              "      fill: #1967D2;\n",
              "      height: 32px;\n",
              "      padding: 0 0 0 0;\n",
              "      width: 32px;\n",
              "    }\n",
              "\n",
              "    .colab-df-convert:hover {\n",
              "      background-color: #E2EBFA;\n",
              "      box-shadow: 0px 1px 2px rgba(60, 64, 67, 0.3), 0px 1px 3px 1px rgba(60, 64, 67, 0.15);\n",
              "      fill: #174EA6;\n",
              "    }\n",
              "\n",
              "    .colab-df-buttons div {\n",
              "      margin-bottom: 4px;\n",
              "    }\n",
              "\n",
              "    [theme=dark] .colab-df-convert {\n",
              "      background-color: #3B4455;\n",
              "      fill: #D2E3FC;\n",
              "    }\n",
              "\n",
              "    [theme=dark] .colab-df-convert:hover {\n",
              "      background-color: #434B5C;\n",
              "      box-shadow: 0px 1px 3px 1px rgba(0, 0, 0, 0.15);\n",
              "      filter: drop-shadow(0px 1px 2px rgba(0, 0, 0, 0.3));\n",
              "      fill: #FFFFFF;\n",
              "    }\n",
              "  </style>\n",
              "\n",
              "    <script>\n",
              "      const buttonEl =\n",
              "        document.querySelector('#df-b845890d-7717-4e01-9c59-ee167f24137c button.colab-df-convert');\n",
              "      buttonEl.style.display =\n",
              "        google.colab.kernel.accessAllowed ? 'block' : 'none';\n",
              "\n",
              "      async function convertToInteractive(key) {\n",
              "        const element = document.querySelector('#df-b845890d-7717-4e01-9c59-ee167f24137c');\n",
              "        const dataTable =\n",
              "          await google.colab.kernel.invokeFunction('convertToInteractive',\n",
              "                                                    [key], {});\n",
              "        if (!dataTable) return;\n",
              "\n",
              "        const docLinkHtml = 'Like what you see? Visit the ' +\n",
              "          '<a target=\"_blank\" href=https://colab.research.google.com/notebooks/data_table.ipynb>data table notebook</a>'\n",
              "          + ' to learn more about interactive tables.';\n",
              "        element.innerHTML = '';\n",
              "        dataTable['output_type'] = 'display_data';\n",
              "        await google.colab.output.renderOutput(dataTable, element);\n",
              "        const docLink = document.createElement('div');\n",
              "        docLink.innerHTML = docLinkHtml;\n",
              "        element.appendChild(docLink);\n",
              "      }\n",
              "    </script>\n",
              "  </div>\n",
              "\n",
              "\n",
              "<div id=\"df-821d6e82-e3e5-418c-9caf-9a7f3a26357a\">\n",
              "  <button class=\"colab-df-quickchart\" onclick=\"quickchart('df-821d6e82-e3e5-418c-9caf-9a7f3a26357a')\"\n",
              "            title=\"Suggest charts\"\n",
              "            style=\"display:none;\">\n",
              "\n",
              "<svg xmlns=\"http://www.w3.org/2000/svg\" height=\"24px\"viewBox=\"0 0 24 24\"\n",
              "     width=\"24px\">\n",
              "    <g>\n",
              "        <path d=\"M19 3H5c-1.1 0-2 .9-2 2v14c0 1.1.9 2 2 2h14c1.1 0 2-.9 2-2V5c0-1.1-.9-2-2-2zM9 17H7v-7h2v7zm4 0h-2V7h2v10zm4 0h-2v-4h2v4z\"/>\n",
              "    </g>\n",
              "</svg>\n",
              "  </button>\n",
              "\n",
              "<style>\n",
              "  .colab-df-quickchart {\n",
              "      --bg-color: #E8F0FE;\n",
              "      --fill-color: #1967D2;\n",
              "      --hover-bg-color: #E2EBFA;\n",
              "      --hover-fill-color: #174EA6;\n",
              "      --disabled-fill-color: #AAA;\n",
              "      --disabled-bg-color: #DDD;\n",
              "  }\n",
              "\n",
              "  [theme=dark] .colab-df-quickchart {\n",
              "      --bg-color: #3B4455;\n",
              "      --fill-color: #D2E3FC;\n",
              "      --hover-bg-color: #434B5C;\n",
              "      --hover-fill-color: #FFFFFF;\n",
              "      --disabled-bg-color: #3B4455;\n",
              "      --disabled-fill-color: #666;\n",
              "  }\n",
              "\n",
              "  .colab-df-quickchart {\n",
              "    background-color: var(--bg-color);\n",
              "    border: none;\n",
              "    border-radius: 50%;\n",
              "    cursor: pointer;\n",
              "    display: none;\n",
              "    fill: var(--fill-color);\n",
              "    height: 32px;\n",
              "    padding: 0;\n",
              "    width: 32px;\n",
              "  }\n",
              "\n",
              "  .colab-df-quickchart:hover {\n",
              "    background-color: var(--hover-bg-color);\n",
              "    box-shadow: 0 1px 2px rgba(60, 64, 67, 0.3), 0 1px 3px 1px rgba(60, 64, 67, 0.15);\n",
              "    fill: var(--button-hover-fill-color);\n",
              "  }\n",
              "\n",
              "  .colab-df-quickchart-complete:disabled,\n",
              "  .colab-df-quickchart-complete:disabled:hover {\n",
              "    background-color: var(--disabled-bg-color);\n",
              "    fill: var(--disabled-fill-color);\n",
              "    box-shadow: none;\n",
              "  }\n",
              "\n",
              "  .colab-df-spinner {\n",
              "    border: 2px solid var(--fill-color);\n",
              "    border-color: transparent;\n",
              "    border-bottom-color: var(--fill-color);\n",
              "    animation:\n",
              "      spin 1s steps(1) infinite;\n",
              "  }\n",
              "\n",
              "  @keyframes spin {\n",
              "    0% {\n",
              "      border-color: transparent;\n",
              "      border-bottom-color: var(--fill-color);\n",
              "      border-left-color: var(--fill-color);\n",
              "    }\n",
              "    20% {\n",
              "      border-color: transparent;\n",
              "      border-left-color: var(--fill-color);\n",
              "      border-top-color: var(--fill-color);\n",
              "    }\n",
              "    30% {\n",
              "      border-color: transparent;\n",
              "      border-left-color: var(--fill-color);\n",
              "      border-top-color: var(--fill-color);\n",
              "      border-right-color: var(--fill-color);\n",
              "    }\n",
              "    40% {\n",
              "      border-color: transparent;\n",
              "      border-right-color: var(--fill-color);\n",
              "      border-top-color: var(--fill-color);\n",
              "    }\n",
              "    60% {\n",
              "      border-color: transparent;\n",
              "      border-right-color: var(--fill-color);\n",
              "    }\n",
              "    80% {\n",
              "      border-color: transparent;\n",
              "      border-right-color: var(--fill-color);\n",
              "      border-bottom-color: var(--fill-color);\n",
              "    }\n",
              "    90% {\n",
              "      border-color: transparent;\n",
              "      border-bottom-color: var(--fill-color);\n",
              "    }\n",
              "  }\n",
              "</style>\n",
              "\n",
              "  <script>\n",
              "    async function quickchart(key) {\n",
              "      const quickchartButtonEl =\n",
              "        document.querySelector('#' + key + ' button');\n",
              "      quickchartButtonEl.disabled = true;  // To prevent multiple clicks.\n",
              "      quickchartButtonEl.classList.add('colab-df-spinner');\n",
              "      try {\n",
              "        const charts = await google.colab.kernel.invokeFunction(\n",
              "            'suggestCharts', [key], {});\n",
              "      } catch (error) {\n",
              "        console.error('Error during call to suggestCharts:', error);\n",
              "      }\n",
              "      quickchartButtonEl.classList.remove('colab-df-spinner');\n",
              "      quickchartButtonEl.classList.add('colab-df-quickchart-complete');\n",
              "    }\n",
              "    (() => {\n",
              "      let quickchartButtonEl =\n",
              "        document.querySelector('#df-821d6e82-e3e5-418c-9caf-9a7f3a26357a button');\n",
              "      quickchartButtonEl.style.display =\n",
              "        google.colab.kernel.accessAllowed ? 'block' : 'none';\n",
              "    })();\n",
              "  </script>\n",
              "</div>\n",
              "\n",
              "    </div>\n",
              "  </div>\n"
            ],
            "application/vnd.google.colaboratory.intrinsic+json": {
              "type": "dataframe",
              "variable_name": "df",
              "summary": "{\n  \"name\": \"df\",\n  \"rows\": 2000,\n  \"fields\": [\n    {\n      \"column\": \"group\",\n      \"properties\": {\n        \"dtype\": \"category\",\n        \"num_unique_values\": 2,\n        \"samples\": [\n          \"B\",\n          \"A\"\n        ],\n        \"semantic_type\": \"\",\n        \"description\": \"\"\n      }\n    },\n    {\n      \"column\": \"converted\",\n      \"properties\": {\n        \"dtype\": \"number\",\n        \"std\": 0,\n        \"min\": 0,\n        \"max\": 1,\n        \"num_unique_values\": 2,\n        \"samples\": [\n          1,\n          0\n        ],\n        \"semantic_type\": \"\",\n        \"description\": \"\"\n      }\n    }\n  ]\n}"
            }
          },
          "metadata": {},
          "execution_count": 2
        }
      ]
    },
    {
      "cell_type": "code",
      "source": [
        "# GROUP-WISE STATISTICS\n",
        "\n",
        "# Use pandas groupby and agg to calculate mean, count, and sum per group\n",
        "group_stats = df.groupby(\"group\")[\"converted\"].agg([\"mean\", \"count\", \"sum\"])\n",
        "print(\"Group Stats:\\n\", group_stats)\n",
        "\n"
      ],
      "metadata": {
        "colab": {
          "base_uri": "https://localhost:8080/"
        },
        "id": "XDnS_m9JISC6",
        "outputId": "af563dc4-5037-4cdd-a451-a1b4fdf84de9"
      },
      "execution_count": 3,
      "outputs": [
        {
          "output_type": "stream",
          "name": "stdout",
          "text": [
            "Group Stats:\n",
            "         mean  count  sum\n",
            "group                   \n",
            "A      0.124   1000  124\n",
            "B      0.152   1000  152\n"
          ]
        }
      ]
    },
    {
      "cell_type": "markdown",
      "source": [
        "There is a +2.8 percentage point increase in the conversion rate in Group B.\n",
        "This raw difference looks promising — but is it statistically significant?"
      ],
      "metadata": {
        "id": "R7tReRIk7KQU"
      }
    },
    {
      "cell_type": "code",
      "source": [
        "# T-TEST (INDEPENDENT)\n",
        "\n",
        "\n",
        "# Use scipy.stats to perform independent t-test\n",
        "# H0: There is no difference in conversion rates between groups\n",
        "# H1: There is a significant difference\n",
        "t_stat, p_value = stats.ttest_ind(group_a, group_b)\n",
        "\n",
        "print(\"\\nT-test result\")\n",
        "print(\"t-statistic:\", round(t_stat, 4))\n",
        "print(\"p-value:\", round(p_value, 4))"
      ],
      "metadata": {
        "colab": {
          "base_uri": "https://localhost:8080/"
        },
        "id": "-d612jtuSC9N",
        "outputId": "47cd4968-a779-407b-e795-f8e4b547350d"
      },
      "execution_count": 4,
      "outputs": [
        {
          "output_type": "stream",
          "name": "stdout",
          "text": [
            "\n",
            "T-test result\n",
            "t-statistic: -1.8159\n",
            "p-value: 0.0695\n"
          ]
        }
      ]
    },
    {
      "cell_type": "markdown",
      "source": [
        "**The result is not statistically significant.**\n",
        "\n",
        "**p-value:**\n",
        "The p-value is 0.0695, which is greater than 0.05, this means the result is not statistically significant.\n",
        "\n",
        "**t-statistic:**\n",
        "If the t-statistic were > +2 or < –2, we’d often call it “significant”.\n",
        "But here, |–1.8159| < 2 → it’s close, but not quite enough to be confident.\n",
        "The negative sign just tells us the direction: difference = A − B < 0\n",
        "\n",
        "⚠️ If p > 0.05, the result is not statistically significant — t-statistic doesn’t change this."
      ],
      "metadata": {
        "id": "oEQufcxr70LC"
      }
    },
    {
      "cell_type": "code",
      "source": [
        "# CONFIDENCE INTERVAL (95%) for the difference\n",
        "\n",
        "# Use statsmodels CompareMeans to calculate 95% confidence interval\n",
        "# This shows the range in which the true difference in conversion rates likely falls\n",
        "\n",
        "ci = sms.CompareMeans(sms.DescrStatsW(group_b), sms.DescrStatsW(group_a))\n",
        "conf_int = ci.tconfint_diff()\n",
        "\n",
        "print(\"\\n95% Confidence Interval for the difference in conversion rates:\")\n",
        "print(f\"{conf_int[0]:.4f} to {conf_int[1]:.4f}\")\n",
        "\n"
      ],
      "metadata": {
        "colab": {
          "base_uri": "https://localhost:8080/"
        },
        "id": "dCVM8qwSJJc1",
        "outputId": "89da09ed-35ac-45de-bc9a-853159cd16ae"
      },
      "execution_count": 5,
      "outputs": [
        {
          "output_type": "stream",
          "name": "stdout",
          "text": [
            "\n",
            "95% Confidence Interval for the difference in conversion rates:\n",
            "-0.0022 to 0.0582\n"
          ]
        }
      ]
    },
    {
      "cell_type": "markdown",
      "source": [
        "**The observed difference is not statistically significant** — we cannot rule out the possibility of no effect.\n",
        "\n",
        "We are 95% confident that the true difference in conversion rates between Group B and Group A lies between -0.22% and +5.82%\n",
        "\n",
        "The confidence interval includes 0, this means it's possible that there's no real difference at all. So, the result is not statistically significant at the 95% level"
      ],
      "metadata": {
        "id": "e-QCZamRDVnO"
      }
    },
    {
      "cell_type": "code",
      "source": [
        "# VISUALIZATION\n",
        "\n",
        "# Use seaborn barplot to compare conversion rates visually\n",
        "plt.figure(figsize=(8, 5))\n",
        "sns.barplot(data=df, x=\"group\", y=\"converted\", ci=95)\n",
        "plt.title(\"Conversion Rate by Group (A vs B)\")\n",
        "plt.ylabel(\"Conversion Rate\")\n",
        "plt.xlabel(\"Group\")\n",
        "plt.ylim(0, 0.2)\n",
        "plt.show()"
      ],
      "metadata": {
        "colab": {
          "base_uri": "https://localhost:8080/",
          "height": 583
        },
        "id": "Lu-2EW01JTLG",
        "outputId": "cc86b29f-ad32-4fc7-848c-aee1933212dc"
      },
      "execution_count": 6,
      "outputs": [
        {
          "output_type": "stream",
          "name": "stderr",
          "text": [
            "<ipython-input-6-e5e7525a1945>:5: FutureWarning: \n",
            "\n",
            "The `ci` parameter is deprecated. Use `errorbar=('ci', 95)` for the same effect.\n",
            "\n",
            "  sns.barplot(data=df, x=\"group\", y=\"converted\", ci=95)\n"
          ]
        },
        {
          "output_type": "display_data",
          "data": {
            "text/plain": [
              "<Figure size 800x500 with 1 Axes>"
            ],
            "image/png": "[encoded data removed]"
          },
          "metadata": {}
        }
      ]
    },
    {
      "cell_type": "markdown",
      "source": [
        "**The difference is not statistically significant at the 95% level.**\n",
        "\n",
        "What we see:\n",
        "- Group A (control): ~12.4% conversion rate\n",
        "- Group B (test): ~15.2% conversion rate\n",
        "- The black vertical lines show the 95% confidence intervals for each group mean.\n",
        "\n",
        "\n",
        "Group B appears to have a higher conversion rate than Group A, but the confidence intervals overlap slightly — meaning the difference is not statistically significant at the 95% level.”\n",
        "\n",
        "In summary, the bar for B is taller. But the black lines (error bars) touch → We can’t say for sure B is better."
      ],
      "metadata": {
        "id": "EmaM4H1mGJI1"
      }
    },
    {
      "cell_type": "markdown",
      "source": [
        "**Summary:**\n",
        "\n",
        "Although Group B showed a higher conversion rate (15.2% vs 12.4%), the difference was not statistically significant (p = 0.0695, CI = –0.0022 to 0.0582), suggesting the observed lift may be due to chance.\n",
        "\n",
        "\n",
        "**Optional next steps:**\n",
        "\n",
        "- Increase sample size\n",
        "- Track results longer\n",
        "- Look for effect size or do a power analysis\n"
      ],
      "metadata": {
        "id": "jnzsbqbOTybR"
      }
    }
  ]
}